{
  "nbformat": 4,
  "nbformat_minor": 0,
  "metadata": {
    "colab": {
      "provenance": [],
      "authorship_tag": "ABX9TyPa/7Our3fTxRCz8h5Fmvl5",
      "include_colab_link": true
    },
    "kernelspec": {
      "name": "python3",
      "display_name": "Python 3"
    },
    "language_info": {
      "name": "python"
    }
  },
  "cells": [
    {
      "cell_type": "markdown",
      "metadata": {
        "id": "view-in-github",
        "colab_type": "text"
      },
      "source": [
        "<a href=\"https://colab.research.google.com/github/Jewel0027/Introduction-to-Data-Science-with-Python/blob/main/Assignment.ipynb\" target=\"_parent\"><img src=\"https://colab.research.google.com/assets/colab-badge.svg\" alt=\"Open In Colab\"/></a>"
      ]
    },
    {
      "cell_type": "markdown",
      "source": [
        "# Jahangirnagar University\n",
        "## Department of Statistics\n",
        "### Md. Mahmudul Hasan, 9th Batch, ID: 20229037,\n",
        "### Course: Introduction to Data Science"
      ],
      "metadata": {
        "id": "J0prvi7bpRJo"
      }
    },
    {
      "cell_type": "markdown",
      "source": [
        "Question-1: Write a Python program to count the number of characters (character frequency) in a string."
      ],
      "metadata": {
        "id": "WLA-Kcuf35Lp"
      }
    },
    {
      "cell_type": "code",
      "source": [
        "string='I am a data scientist.'\n",
        "char_frequency={}\n",
        "for character in string:\n",
        "  if character in char_frequency:\n",
        "    char_frequency[character]+=1\n",
        "  else:\n",
        "    char_frequency[character]=1\n",
        "print(char_frequency)"
      ],
      "metadata": {
        "colab": {
          "base_uri": "https://localhost:8080/"
        },
        "id": "k-nIHMGY4DNT",
        "outputId": "28b038e8-9402-4fa8-947a-6b61d3692abc"
      },
      "execution_count": null,
      "outputs": [
        {
          "output_type": "stream",
          "name": "stdout",
          "text": [
            "{'I': 1, ' ': 4, 'a': 4, 'm': 1, 'd': 1, 't': 3, 's': 2, 'c': 1, 'i': 2, 'e': 1, 'n': 1, '.': 1}\n"
          ]
        }
      ]
    },
    {
      "cell_type": "markdown",
      "source": [
        "Question-2: Write a Python program to check if a given key already exists in a dictionary."
      ],
      "metadata": {
        "id": "PNqTevmB5--D"
      }
    },
    {
      "cell_type": "code",
      "source": [
        "dictionary = {\"apple\": 2, \"banana\": 3, \"orange\": 1}\n",
        "\n",
        "key = input(\"Enter the key to check: \")\n",
        "\n",
        "if key in dictionary:\n",
        "    print(\"The key is already present in the dictionary.\")\n",
        "else:\n",
        "    print(\"The key is not present in the dictionary.\")"
      ],
      "metadata": {
        "colab": {
          "base_uri": "https://localhost:8080/"
        },
        "id": "IWzmQvUd5ggj",
        "outputId": "de63aefa-8e09-403a-b533-f80e54ba3689"
      },
      "execution_count": null,
      "outputs": [
        {
          "output_type": "stream",
          "name": "stdout",
          "text": [
            "Enter the key to check: apple\n",
            "The key is already present in the dictionary.\n"
          ]
        }
      ]
    },
    {
      "cell_type": "markdown",
      "source": [
        "Question-3: Write a Python program that accepts a sequence of comma-separated numbers from the user and generates a list and a tuple of those numbers."
      ],
      "metadata": {
        "id": "wBPTzLcH6d-q"
      }
    },
    {
      "cell_type": "code",
      "source": [
        "user = input(\"Enter comma separated numbers: \")\n",
        "\n",
        "# split the input string into a list of strings\n",
        "numbers_list = user.split(\",\")\n",
        "\n",
        "# convert the list of strings to a list of integers\n",
        "numbers_list = [int(num) for num in numbers_list]\n",
        "\n",
        "# convert the list of integers to a tuple\n",
        "numbers_tuple = tuple(numbers_list)\n",
        "\n",
        "print(\"List:\", numbers_list)\n",
        "print(\"Tuple:\", numbers_tuple)"
      ],
      "metadata": {
        "colab": {
          "base_uri": "https://localhost:8080/"
        },
        "id": "vSRcRi0A6vLY",
        "outputId": "2ce1d012-218c-4922-c0db-202ffe4766ae"
      },
      "execution_count": null,
      "outputs": [
        {
          "output_type": "stream",
          "name": "stdout",
          "text": [
            "Enter comma separated numbers: 5,6,8,9,10\n",
            "List: [5, 6, 8, 9, 10]\n",
            "Tuple: (5, 6, 8, 9, 10)\n"
          ]
        }
      ]
    },
    {
      "cell_type": "markdown",
      "source": [
        "Question-4:Write a Python program to calculate the number of days between two dates."
      ],
      "metadata": {
        "id": "Rf8z05_v89VJ"
      }
    },
    {
      "cell_type": "code",
      "source": [
        "from datetime import date\n",
        "\n",
        "# input the dates in yyyy-mm-dd format\n",
        "date1 = input(\"Enter the first date (yyyy-mm-dd): \")\n",
        "date2 = input(\"Enter the second date (yyyy-mm-dd): \")\n",
        "\n",
        "# convert the input strings to date objects\n",
        "date1_obj = date.fromisoformat(date1)\n",
        "date2_obj = date.fromisoformat(date2)\n",
        "\n",
        "# calculate the difference between the two dates\n",
        "delta = date2_obj - date1_obj\n",
        "\n",
        "# print the number of days between the two dates\n",
        "print(\"Number of days between\", date1, \"and\", date2, \"is:\", delta.days)"
      ],
      "metadata": {
        "colab": {
          "base_uri": "https://localhost:8080/"
        },
        "id": "wZ55BtXQ72fD",
        "outputId": "830ff2d0-ad12-4d2b-dab9-1ff422e6ce8f"
      },
      "execution_count": null,
      "outputs": [
        {
          "output_type": "stream",
          "name": "stdout",
          "text": [
            "Enter the first date (yyyy-mm-dd): 2022-01-01\n",
            "Enter the second date (yyyy-mm-dd): 2023-03-25\n",
            "Number of days between 2022-01-01 and 2023-03-25 is: 448\n"
          ]
        }
      ]
    },
    {
      "cell_type": "markdown",
      "source": [
        "Question-5:Write a Python program to solve (x + y) * (x + y)."
      ],
      "metadata": {
        "id": "Jyw0qrn_9rf6"
      }
    },
    {
      "cell_type": "code",
      "source": [
        "x = int(input(\"Enter the value of x: \"))\n",
        "y = int(input(\"Enter the value of y: \"))\n",
        "\n",
        "result = (x + y) * (x + y)\n",
        "\n",
        "print(\"Result=:\",'(',x,'+',y,')','^',2,')','=', result)"
      ],
      "metadata": {
        "id": "mTLKrMki87wC"
      },
      "execution_count": null,
      "outputs": []
    },
    {
      "cell_type": "markdown",
      "source": [
        "Question-6:Write a Python program to compute the future value of a specified principal amount,rate of interest, and number of years."
      ],
      "metadata": {
        "id": "0HjuGbBCmVSd"
      }
    },
    {
      "cell_type": "code",
      "source": [
        "def calculate_future_value(principal, interest_rate, years):\n",
        "    # Convert interest rate to decimal format\n",
        "    rate = interest_rate / 100\n",
        "    \n",
        "    # Calculate future value using compound interest formula\n",
        "    future_value = principal * (1 + rate) ** years\n",
        "    \n",
        "    # Round to two decimal places\n",
        "    future_value = round(future_value, 2)\n",
        "    \n",
        "    # Return future value\n",
        "    return future_value"
      ],
      "metadata": {
        "id": "oOZTPMOA9v_S"
      },
      "execution_count": null,
      "outputs": []
    },
    {
      "cell_type": "markdown",
      "source": [
        "Question-7: Write a Python program that removes duplicate elements from a given array of numbers so that each element appears only once and returns the new length of the array."
      ],
      "metadata": {
        "id": "b5HpMC6bm-_M"
      }
    },
    {
      "cell_type": "code",
      "source": [
        "def remove_duplicates(arr):\n",
        "    # Create an empty set to store unique elements\n",
        "    unique_set = set()\n",
        "    \n",
        "    # Iterate over the input array\n",
        "    for num in arr:\n",
        "        # Add each element to the set if it's not already there\n",
        "        if num not in unique_set:\n",
        "            unique_set.add(num)\n",
        "    \n",
        "    # Convert the set back to a list and return the length of the list\n",
        "    return len(list(unique_set))"
      ],
      "metadata": {
        "id": "8mXNsGwDm0yw"
      },
      "execution_count": null,
      "outputs": []
    },
    {
      "cell_type": "markdown",
      "source": [
        "Question-8: Write a Python program to sort (ascending and descending) a dictionary by key value."
      ],
      "metadata": {
        "id": "h34ieqYNnm84"
      }
    },
    {
      "cell_type": "code",
      "source": [
        "# Sample dictionary\n",
        "my_dict = {'apple': 5, 'banana': 2, 'orange': 4, 'grape': 1}\n",
        "\n",
        "# Sort dictionary by keys in ascending order\n",
        "sorted_dict_asc = dict(sorted(my_dict.items(), key=lambda x: x[0]))\n",
        "\n",
        "# Sort dictionary by keys in descending order\n",
        "sorted_dict_desc = dict(sorted(my_dict.items(), key=lambda x: x[0], reverse=True))\n",
        "\n",
        "# Print the original dictionary and the sorted dictionaries\n",
        "print(\"Original dictionary:\")\n",
        "print(my_dict)\n",
        "\n",
        "print(\"Sorted dictionary by keys in ascending order:\")\n",
        "print(sorted_dict_asc)\n",
        "\n",
        "print(\"Sorted dictionary by keys in descending order:\")\n",
        "print(sorted_dict_desc)"
      ],
      "metadata": {
        "id": "865TlblXnlbT"
      },
      "execution_count": null,
      "outputs": []
    },
    {
      "cell_type": "markdown",
      "source": [
        "Question -9: Write a Python program to add key to a dictionary."
      ],
      "metadata": {
        "id": "ZJUUXtX5n7DO"
      }
    },
    {
      "cell_type": "code",
      "source": [
        "def add_key_value(my_dict, key, value):\n",
        "    my_dict[key] = value\n",
        "    return my_dict\n",
        "    \n",
        "# Example usage\n",
        "my_dict = {'apple': 5, 'banana': 2, 'orange': 4}\n",
        "new_dict = add_key_value(my_dict, 'grape', 3)\n",
        "\n",
        "print(\"Original dictionary:\")\n",
        "print(my_dict)\n",
        "\n",
        "print(\"New dictionary with key-value pair added:\")\n",
        "print(new_dict)"
      ],
      "metadata": {
        "id": "3CFLAEhkn46Q"
      },
      "execution_count": null,
      "outputs": []
    },
    {
      "cell_type": "markdown",
      "source": [
        "Question-10: Write a Pandas program to create and display a DataFrame from a specified dictionary data which has the index labels."
      ],
      "metadata": {
        "id": "xKMF12duoi2w"
      }
    },
    {
      "cell_type": "code",
      "source": [
        "import pandas as pd\n",
        "\n",
        "# Define a dictionary with some data\n",
        "data = {'Name': ['John', 'Alice', 'Bob', 'Emily'],\n",
        "        'Age': [25, 30, 21, 27],\n",
        "        'City': ['New York', 'San Francisco', 'Chicago', 'Los Angeles']}\n",
        "\n",
        "# Create a DataFrame from the dictionary with index labels\n",
        "df = pd.DataFrame(data, index=['A', 'B', 'C', 'D'])\n",
        "\n",
        "# Display the DataFrame with index labels\n",
        "print(df)"
      ],
      "metadata": {
        "id": "CSb0GrzHod9B"
      },
      "execution_count": null,
      "outputs": []
    },
    {
      "cell_type": "code",
      "source": [],
      "metadata": {
        "id": "z5bs4TPApFmi"
      },
      "execution_count": null,
      "outputs": []
    }
  ]
}